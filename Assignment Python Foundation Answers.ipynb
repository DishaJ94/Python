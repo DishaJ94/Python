{
 "cells": [
  {
   "cell_type": "markdown",
   "metadata": {},
   "source": [
    "### Assignment - Python Foundation"
   ]
  },
  {
   "cell_type": "raw",
   "metadata": {},
   "source": [
    "Q1: What is the output of following expression\n",
    "    5 + 4 * 9 % (3 + 1) / 6 - 1"
   ]
  },
  {
   "cell_type": "code",
   "execution_count": 1,
   "metadata": {},
   "outputs": [
    {
     "data": {
      "text/plain": [
       "5.0"
      ]
     },
     "execution_count": 1,
     "metadata": {},
     "output_type": "execute_result"
    }
   ],
   "source": [
    "5 + (4 * 9) % (3 + 1) / (6 - 1)"
   ]
  },
  {
   "cell_type": "raw",
   "metadata": {},
   "source": [
    "Q2: Write a program to check if a Number is Odd or Even. Take number as a input from user at runtime."
   ]
  },
  {
   "cell_type": "code",
   "execution_count": 1,
   "metadata": {},
   "outputs": [
    {
     "name": "stdout",
     "output_type": "stream",
     "text": [
      "Enter the number: 78\n",
      "The number is Even\n"
     ]
    }
   ],
   "source": [
    "i=int(input('Enter the number: '))\n",
    "if i%2==0:\n",
    "    print('The number is Even')\n",
    "else:\n",
    "    print('The number is odd')"
   ]
  },
  {
   "cell_type": "raw",
   "metadata": {},
   "source": [
    "Q3: Write a program to display the table by taking the number as input. \n",
    "    [Hint : Use print statement inside of a loop]"
   ]
  },
  {
   "cell_type": "code",
   "execution_count": 5,
   "metadata": {},
   "outputs": [
    {
     "name": "stdout",
     "output_type": "stream",
     "text": [
      "Enter a number:6\n",
      "6\n",
      "12\n",
      "18\n",
      "24\n",
      "30\n",
      "36\n",
      "42\n",
      "48\n",
      "54\n",
      "60\n"
     ]
    }
   ],
   "source": [
    "p=int(input('Enter a number:'))\n",
    "i=1\n",
    "for i in range (1,11):\n",
    "    print(p*i)"
   ]
  },
  {
   "cell_type": "raw",
   "metadata": {},
   "source": [
    "Q4: Write a program which will find all numbers between 2000 and 3200 which are divisible by 7 \n",
    "    but are not a multiple of 5.\n",
    " \n",
    "Note: The numbers obtained should be printed in a comma-separated sequence on a single line."
   ]
  },
  {
   "cell_type": "code",
   "execution_count": 25,
   "metadata": {},
   "outputs": [
    {
     "name": "stdout",
     "output_type": "stream",
     "text": [
      "2002,2009,2016,2023,2037,2044,2051,2058,2072,2079,2086,2093,2107,2114,2121,2128,2142,2149,2156,2163,2177,2184,2191,2198,2212,2219,2226,2233,2247,2254,2261,2268,2282,2289,2296,2303,2317,2324,2331,2338,2352,2359,2366,2373,2387,2394,2401,2408,2422,2429,2436,2443,2457,2464,2471,2478,2492,2499,2506,2513,2527,2534,2541,2548,2562,2569,2576,2583,2597,2604,2611,2618,2632,2639,2646,2653,2667,2674,2681,2688,2702,2709,2716,2723,2737,2744,2751,2758,2772,2779,2786,2793,2807,2814,2821,2828,2842,2849,2856,2863,2877,2884,2891,2898,2912,2919,2926,2933,2947,2954,2961,2968,2982,2989,2996,3003,3017,3024,3031,3038,3052,3059,3066,3073,3087,3094,3101,3108,3122,3129,3136,3143,3157,3164,3171,3178,3192,3199,"
     ]
    }
   ],
   "source": [
    "p=0\n",
    "for i in range(2000,3201):\n",
    "    if i%7==0 and i%5!=0:\n",
    "        print(i,end =',')\n",
    "        p=p+1"
   ]
  },
  {
   "cell_type": "raw",
   "metadata": {},
   "source": [
    "Q5: Count the elements of each datatype inside the list and display in output\n",
    "    [2, 3, 'Py', '10', 1, 'SQL', 5.5, True, 3, 'John', None, 7]    "
   ]
  },
  {
   "cell_type": "code",
   "execution_count": 27,
   "metadata": {},
   "outputs": [
    {
     "name": "stdout",
     "output_type": "stream",
     "text": [
      "{<class 'int'>: 5, <class 'str'>: 4, <class 'float'>: 1, <class 'bool'>: 1, <class 'NoneType'>: 1}\n"
     ]
    }
   ],
   "source": [
    "l1=[2, 3, 'Py', '10', 1, 'SQL', 5.5, True, 3, 'John', None, 7]\n",
    "d1={}\n",
    "for l in l1:\n",
    "    if type(l) in d1.keys():\n",
    "        d1[type(l)]+=1\n",
    "    else:\n",
    "        d1[type(l)]=1\n",
    "print(d1)"
   ]
  },
  {
   "cell_type": "raw",
   "metadata": {},
   "source": [
    "Q6: Add all values from the list with numeric datatypes \n",
    "    [2, 3, 'Py', '10', 1, 'SQL', 5.5, True, 3, 'John', None, 7] "
   ]
  },
  {
   "cell_type": "code",
   "execution_count": 43,
   "metadata": {},
   "outputs": [],
   "source": [
    "l2=[2, 3, 'Py', '10', 1, 'SQL', 5.5, True, 3, 'John', None, 7] "
   ]
  },
  {
   "cell_type": "code",
   "execution_count": 50,
   "metadata": {},
   "outputs": [
    {
     "name": "stdout",
     "output_type": "stream",
     "text": [
      "21.5\n"
     ]
    }
   ],
   "source": [
    "p=0\n",
    "for l in l2:\n",
    "    if isinstance(l,(int,float)) and not isinstance(l, bool):\n",
    "        p=p+l\n",
    "print(p)\n",
    "    "
   ]
  },
  {
   "cell_type": "raw",
   "metadata": {},
   "source": [
    "Q7: Concat all str datatypes with hyphen as a delimiter\n",
    "    [2, 3, 'Py', '10', 1, 'SQL', 5.5, True, 3, 'John', None, 7] "
   ]
  },
  {
   "cell_type": "code",
   "execution_count": 53,
   "metadata": {},
   "outputs": [
    {
     "name": "stdout",
     "output_type": "stream",
     "text": [
      "True\n"
     ]
    }
   ],
   "source": [
    "print(isinstance ('Py',str))\n"
   ]
  },
  {
   "cell_type": "code",
   "execution_count": 63,
   "metadata": {},
   "outputs": [
    {
     "name": "stdout",
     "output_type": "stream",
     "text": [
      "Py-10-SQL-John\n"
     ]
    }
   ],
   "source": [
    "k=''\n",
    "for l in l2:\n",
    "    if isinstance (l,str):\n",
    "        k+=l+'-'\n",
    "print(k[0:-1])"
   ]
  },
  {
   "cell_type": "raw",
   "metadata": {},
   "source": [
    "Q8: Write a UDF that takes list as input and returns sum of all numbers \n",
    "    (exclude bool) and count of all str \n",
    "    [2, 3, 'Py', '10', 1, 'SQL', 5.5, True, 3, 'John', None, 7] \n",
    "    \n",
    "Hint:\n",
    "-----\n",
    "def my_func:\n",
    "    # your code\n",
    "        \n",
    "my_func(l1)\n",
    "# output --> {'Sum': xxx, 'Count_of_Strs': xxx}"
   ]
  },
  {
   "cell_type": "code",
   "execution_count": 74,
   "metadata": {},
   "outputs": [],
   "source": [
    "def test_1(L1):\n",
    "    s=0\n",
    "    t=0\n",
    "    for x in l1:\n",
    "        if isinstance(x,(int,float)) and not isinstance(x, bool):\n",
    "            s+=x\n",
    "        elif isinstance (x,str):\n",
    "            t+=1\n",
    "    return (s,t)"
   ]
  },
  {
   "cell_type": "code",
   "execution_count": 75,
   "metadata": {},
   "outputs": [],
   "source": [
    "t=[2, 3, 'Py', '10', 1, 'SQL', 5.5, True, 3, 'John', None, 7]"
   ]
  },
  {
   "cell_type": "code",
   "execution_count": 80,
   "metadata": {},
   "outputs": [
    {
     "name": "stdout",
     "output_type": "stream",
     "text": [
      "Sum: 21.5 Count: 4\n"
     ]
    }
   ],
   "source": [
    "s,c=test_1(t)\n",
    "print(\"Sum:\",s,\"Count:\",c)"
   ]
  },
  {
   "cell_type": "code",
   "execution_count": null,
   "metadata": {},
   "outputs": [],
   "source": []
  },
  {
   "cell_type": "raw",
   "metadata": {},
   "source": [
    "Q9: Get only odd numbers from the following list and store the numbers in new list\n",
    "    li = [5, 7, 22, 97, 54, 62, 77, 23, 73, 61]\n",
    "\n",
    "    i. Use loops to get the answer\n",
    "   ii. Use list comprehensions\n",
    "  iii. Use lambda function with map"
   ]
  },
  {
   "cell_type": "code",
   "execution_count": 88,
   "metadata": {},
   "outputs": [
    {
     "name": "stdout",
     "output_type": "stream",
     "text": [
      "[5, 7, 97, 77, 23, 73, 61]\n"
     ]
    }
   ],
   "source": [
    "l_3=[5, 7, 22, 97, 54, 62, 77, 23, 73, 61]\n",
    "l4=[]\n",
    "for x in l_3:\n",
    "    if x%2!=0:\n",
    "        l4.append(x)\n",
    "print(l4)\n",
    "        "
   ]
  },
  {
   "cell_type": "markdown",
   "metadata": {},
   "source": [
    "list_1 = [n**2 for n in range(1, 21) if n % 2 == 0]"
   ]
  },
  {
   "cell_type": "code",
   "execution_count": 90,
   "metadata": {
    "scrolled": true
   },
   "outputs": [
    {
     "name": "stdout",
     "output_type": "stream",
     "text": [
      "[5, 7, 97, 77, 23, 73, 61]\n"
     ]
    }
   ],
   "source": [
    "p=[n for n in l_3 if n%2!=0]\n",
    "print(p)"
   ]
  },
  {
   "cell_type": "code",
   "execution_count": 95,
   "metadata": {},
   "outputs": [
    {
     "data": {
      "text/plain": [
       "[10, 11, 12, 13, 14, 15, 16, 17, 18, 19]"
      ]
     },
     "execution_count": 95,
     "metadata": {},
     "output_type": "execute_result"
    }
   ],
   "source": [
    "list(map(lambda x: x + 10, range(10)))"
   ]
  },
  {
   "cell_type": "code",
   "execution_count": 98,
   "metadata": {},
   "outputs": [
    {
     "data": {
      "text/plain": [
       "[5, 7, 0, 97, 0, 0, 77, 23, 73, 61]"
      ]
     },
     "execution_count": 98,
     "metadata": {},
     "output_type": "execute_result"
    }
   ],
   "source": [
    "list(map(lambda x:x if x%2!=0 else 0,l_3))"
   ]
  },
  {
   "cell_type": "raw",
   "metadata": {},
   "source": [
    "Q10: Write a UDF to return the descriptives [sum, count, min, mean, max] for the n number of input \n",
    "    numbers."
   ]
  },
  {
   "cell_type": "code",
   "execution_count": 134,
   "metadata": {},
   "outputs": [],
   "source": [
    "import sys\n",
    "def algorithm(*num):\n",
    "    s=0\n",
    "    c=0\n",
    "    m=0\n",
    "    mx=-sys.maxsize-1\n",
    "    mn=sys.maxsize\n",
    "    for i in num:\n",
    "        s+=i\n",
    "        c+=1\n",
    "        m=s/c\n",
    "        if i>mx:\n",
    "            mx=i \n",
    "        if i<mn:\n",
    "            mn=i\n",
    "        \n",
    "    return(s,c,m,mx,mn)\n",
    "    "
   ]
  },
  {
   "cell_type": "code",
   "execution_count": 135,
   "metadata": {},
   "outputs": [
    {
     "name": "stdout",
     "output_type": "stream",
     "text": [
      "Sum: -14 , Count: 3 , Average: -4.666666666666667 , Max: -2 , Min: -9\n"
     ]
    }
   ],
   "source": [
    "p,t,a,maxi,mini=algorithm(-2,-3,-9)\n",
    "print(\"Sum:\",p,\",\",\"Count:\",t,\",\",\"Average:\",a,\",\",\"Max:\",maxi,\",\",\"Min:\",mini)"
   ]
  },
  {
   "cell_type": "raw",
   "metadata": {},
   "source": [
    "Q11: Write an udf to calculate the area of different shapes\n",
    "\n",
    "Take shape and dimensions as arguments to udf as follows : \n",
    "\n",
    "1. square which has side\n",
    "2. rectangle which has length and width\n",
    "3. circle which has radius\n",
    "\n",
    "The shape should be a positional argument and it's dimensions are taken as kwargs\n",
    "\n",
    "Perform proper validation for the user inputs and then calculate area.\n",
    "\n",
    "E.g. if shape is square, ensure kwargs has \"side\" and if so, then you may return the area, else display appropriate error message like \"Please enter 'side' for a square\""
   ]
  },
  {
   "cell_type": "code",
   "execution_count": 2,
   "metadata": {},
   "outputs": [],
   "source": [
    "def fn_areaofshapes(shape, **kwargs):\n",
    "    \n",
    "    Area = 0\n",
    "    \n",
    "    if shape == 'circle':\n",
    "        Area = 3.14 * kwargs['radius'] ** 2\n",
    "    \n",
    "    elif shape == 'square':\n",
    "        Area = kwargs['side'] * kwargs['side'] \n",
    "        \n",
    "    elif shape == 'rectangle':\n",
    "        Area = kwargs['length'] * kwargs['width'] \n",
    "    \n",
    "    else:\n",
    "        Area = 'Not a valid shape'\n",
    "        \n",
    "    return Area"
   ]
  },
  {
   "cell_type": "code",
   "execution_count": 6,
   "metadata": {},
   "outputs": [
    {
     "data": {
      "text/plain": [
       "36"
      ]
     },
     "execution_count": 6,
     "metadata": {},
     "output_type": "execute_result"
    }
   ],
   "source": [
    "fn_areaofshapes(shape='square',side=6)"
   ]
  },
  {
   "cell_type": "raw",
   "metadata": {},
   "source": [
    "Q12: Write a UDF to reconcile the values within two lists.\n",
    "    l1 = ['January', 'February', 'March', 'May', 'June', 'September', 'December']\n",
    "    l2 = ['January', 'February', 'April', 'June', 'October', 'December']\n",
    "\n",
    "Hint:\n",
    "-----\n",
    "def func(l1, l2):\n",
    "    your code here...\n",
    "    \n",
    "Output:\n",
    "{'Matched': ['January', 'February', 'June', 'December'],\n",
    "    'Only in l1': ['March', 'May', 'September'],\n",
    "        'Only in l2': ['April', 'October']}"
   ]
  },
  {
   "cell_type": "code",
   "execution_count": 7,
   "metadata": {},
   "outputs": [],
   "source": [
    "d1 = ['January', 'February', 'March', 'May', 'June', 'September', 'December']\n",
    "d2 = ['January', 'February', 'April', 'June', 'October', 'December']"
   ]
  },
  {
   "cell_type": "code",
   "execution_count": 36,
   "metadata": {},
   "outputs": [],
   "source": [
    "def func (d1,d2):\n",
    "    d3=[]\n",
    "    for x in d1:\n",
    "        for y in d2:\n",
    "            if x==y:\n",
    "                d3.append(x)\n",
    "    non_match_a  = set(d1)-set(d2)\n",
    "    non_match_b  = set(d2)-set(d1)\n",
    "    docinfo ={'Matched':d3,'Only in l1': [non_match_a], 'Only in l2': [non_match_b]}\n",
    "    return docinfo\n",
    "            \n",
    "            "
   ]
  },
  {
   "cell_type": "code",
   "execution_count": 37,
   "metadata": {},
   "outputs": [
    {
     "data": {
      "text/plain": [
       "{'Matched': ['January', 'February', 'June', 'December'],\n",
       " 'Only in l1': [{'March', 'May', 'September'}],\n",
       " 'Only in l2': [{'April', 'October'}]}"
      ]
     },
     "execution_count": 37,
     "metadata": {},
     "output_type": "execute_result"
    }
   ],
   "source": [
    "func(d1,d2)"
   ]
  },
  {
   "cell_type": "code",
   "execution_count": null,
   "metadata": {},
   "outputs": [],
   "source": []
  }
 ],
 "metadata": {
  "kernelspec": {
   "display_name": "Python 3",
   "language": "python",
   "name": "python3"
  },
  "language_info": {
   "codemirror_mode": {
    "name": "ipython",
    "version": 3
   },
   "file_extension": ".py",
   "mimetype": "text/x-python",
   "name": "python",
   "nbconvert_exporter": "python",
   "pygments_lexer": "ipython3",
   "version": "3.8.8"
  }
 },
 "nbformat": 4,
 "nbformat_minor": 2
}
